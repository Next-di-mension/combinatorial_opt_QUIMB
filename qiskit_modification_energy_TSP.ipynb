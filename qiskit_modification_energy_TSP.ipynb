{
 "cells": [
  {
   "cell_type": "code",
   "execution_count": 5,
   "metadata": {},
   "outputs": [],
   "source": [
    "import networkx as nx\n",
    "import matplotlib.pyplot as plt\n",
    "import numpy as np\n",
    "from qiskit import QuantumCircuit, ClassicalRegister, QuantumRegister\n",
    "from qiskit import Aer, execute\n",
    "from qiskit.circuit import Parameter"
   ]
  },
  {
   "cell_type": "code",
   "execution_count": 6,
   "metadata": {},
   "outputs": [],
   "source": [
    "def create_qaoa_circ(graph, theta):\n",
    "    \"\"\"Creates a parametrized qaoa circuit\n",
    "    Args:\n",
    "        graph: networkx graph\n",
    "        theta: (list) unitary parameters\n",
    "    Returns:\n",
    "        (QuantumCircuit) qiskit circuit\n",
    "    \"\"\"\n",
    "    nqubits = len(graph.nodes())\n",
    "    n_layers = len(theta)//2  # number of alternating unitaries\n",
    "    beta = theta[:n_layers]\n",
    "    gamma = theta[n_layers:]\n",
    "\n",
    "    qc = QuantumCircuit(nqubits)\n",
    "\n",
    "    # initial_state\n",
    "    qc.h(range(nqubits))\n",
    "\n",
    "    for layer_index in range(n_layers):\n",
    "        # problem unitary\n",
    "        for pair in list(graph.edges()):\n",
    "            qc.rzz(2 * gamma[layer_index], pair[0], pair[1])\n",
    "        # mixer unitary\n",
    "        for qubit in range(nqubits):\n",
    "            qc.rx(2 * beta[layer_index], qubit)\n",
    "\n",
    "    qc.measure_all()\n",
    "    return qc"
   ]
  },
  {
   "cell_type": "code",
   "execution_count": 12,
   "metadata": {},
   "outputs": [
    {
     "name": "stdout",
     "output_type": "stream",
     "text": [
      "{(0, 1): 606.5, (0, 2): 606.5, (1, 2): 606.5, (0, 3): 606.5, (1, 3): 15.75, (2, 3): 15.75, (0, 4): 15.75, (1, 4): 606.5, (2, 4): 15.75, (3, 4): 606.5, (0, 5): 15.75, (1, 5): 15.75, (2, 5): 606.5, (3, 5): 606.5, (4, 5): 606.5, (0, 6): 606.5, (1, 6): 22.75, (2, 6): 22.75, (3, 6): 606.5, (4, 6): 12, (5, 6): 12, (0, 7): 22.75, (1, 7): 606.5, (2, 7): 22.75, (3, 7): 12, (4, 7): 606.5, (5, 7): 12, (6, 7): 606.5, (0, 8): 22.75, (1, 8): 22.75, (2, 8): 606.5, (3, 8): 12, (4, 8): 12, (5, 8): 606.5, (6, 8): 606.5, (7, 8): 606.5}\n"
     ]
    }
   ],
   "source": [
    "edges = []\n",
    "for j in range(9):\n",
    "    for i in range(9):\n",
    "        if i < j:\n",
    "            edges.append((i,j))\n",
    "#print(edges)\n",
    "\n",
    "weights = [606.5,606.5,606.5,606.5,15.75,15.75,15.75,606.5,15.75,606.5,15.75,15.75,606.5,606.5,606.5,606.5,22.75,22.75,606.5,12,12,22.75,606.5,22.75,12,606.5,12,606.5,22.75,22.75,606.5,12,12,606.5,606.5,606.5]\n",
    "\n",
    "graph = dict(zip(edges,weights))\n",
    "print(graph) # all the zz terms and their weights"
   ]
  },
  {
   "cell_type": "code",
   "execution_count": 13,
   "metadata": {},
   "outputs": [
    {
     "name": "stdout",
     "output_type": "stream",
     "text": [
      "[(0, 1, 606.5), (0, 2, 606.5), (1, 2, 606.5), (0, 3, 606.5), (1, 3, 15.75), (2, 3, 15.75), (0, 4, 15.75), (1, 4, 606.5), (2, 4, 15.75), (3, 4, 606.5), (0, 5, 15.75), (1, 5, 15.75), (2, 5, 606.5), (3, 5, 606.5), (4, 5, 606.5), (0, 6, 606.5), (1, 6, 22.75), (2, 6, 22.75), (3, 6, 606.5), (4, 6, 12), (5, 6, 12), (0, 7, 22.75), (1, 7, 606.5), (2, 7, 22.75), (3, 7, 12), (4, 7, 606.5), (5, 7, 12), (6, 7, 606.5), (0, 8, 22.75), (1, 8, 22.75), (2, 8, 606.5), (3, 8, 12), (4, 8, 12), (5, 8, 606.5), (6, 8, 606.5), (7, 8, 606.5)]\n"
     ]
    }
   ],
   "source": [
    "W = []\n",
    "for i in range(len(edges)):\n",
    "    W.append((edges[i][0],edges[i][1],weights[i]))\n",
    "print(W)"
   ]
  },
  {
   "cell_type": "code",
   "execution_count": 11,
   "metadata": {},
   "outputs": [
    {
     "name": "stdout",
     "output_type": "stream",
     "text": [
      "{0: -1290, 1: -1290, 2: -1290, 3: -1268.5, 4: -1268.5, 5: -1268.5, 6: -1282.5, 7: -1282.5, 8: -1282.5}\n"
     ]
    }
   ],
   "source": [
    "lattice_cite = [i for i in range(9)]\n",
    "field_str = [-1290,-1290,-1290,-1268.5,-1268.5,-1268.5,-1282.5,-1282.5,-1282.5]\n",
    "z_terms = dict(zip(lattice_cite,field_str))\n",
    "print(z_terms) # all the z terms and their weights"
   ]
  },
  {
   "cell_type": "code",
   "execution_count": 14,
   "metadata": {},
   "outputs": [],
   "source": [
    "def create_qaoa_circ_modified(W, theta, field_str):\n",
    "    \"\"\"Creates a parametrized qaoa circuit\n",
    "    Args:\n",
    "        W: (tuple) containing edges and its respective weights \n",
    "        theta: (list) unitary parameters\n",
    "        \n",
    "    Returns:\n",
    "        (QuantumCircuit) qiskit circuit\n",
    "    \"\"\"\n",
    "    nqubits = len(G.nodes())\n",
    "    n_layers = len(theta)//2  # number of alternating unitaries\n",
    "    beta = theta[:n_layers]\n",
    "    gamma = theta[n_layers:]\n",
    "\n",
    "    qc = QuantumCircuit(nqubits)\n",
    "\n",
    "    # initial_state\n",
    "    qc.h(range(nqubits))\n",
    "\n",
    "    for layer_index in range(n_layers):\n",
    "        #problem unitary\n",
    "        for i in range(nqubits):\n",
    "            qc.rz(2*gamma[layer_index]*field_str[i],i )\n",
    "        for pair in W:  # pairs of nodes\n",
    "            qc.rzz(2 * gamma[layer_index]*pair[2], pair[0], pair[1])\n",
    "        # mixer unitary\n",
    "        for qubit in range(nqubits):\n",
    "            qc.rx(2 * beta[layer_index], qubit)\n",
    "\n",
    "    qc.measure_all()\n",
    "    return qc"
   ]
  },
  {
   "cell_type": "code",
   "execution_count": 7,
   "metadata": {},
   "outputs": [],
   "source": [
    "#nv = number of vertices , cf = cost fun\n",
    "# x = parameters\n",
    "param = [1,1]\n",
    "G = nx.Graph()\n",
    "G.add_nodes_from([0, 1, 2, 3, 4, 5, 6, 7, 8, 9])\n",
    "G.add_edges_from([(0, 1), (0, 2), (0, 3), (0, 4), (0, 5), (0, 6), (0, 7), (0, 8), (0, 9), (1, 2), (1, 3), (1, 4), (1, 5), (1, 6), (1, 7), (1, 8), (1, 9), (2, 3), (2, 4), (2, 5), (2, 6), (2, 7), (2, 8), (2, 9), (3, 4), (3, 5), (3, 6), (3, 7), (3, 8), (3, 9), (4, 5), (4, 6), (4, 7), (4, 8), (4, 9), (5, 6), (5, 7), (5, 8), (5, 9), (6, 7), (6, 8), (6, 9), (7, 8), (7, 9), (8, 9)])\n",
    "\n",
    "def Energy(cf, nv, x):\n",
    "    Edges = [(i, j) for i, j in G]\n",
    "    #qc_res = create_qaoa_circ(cf, nv, x)\n",
    "    qc = create_qaoa_circ(G,param)\n",
    "    backend = Aer.get_backend('statevector_simulator')\n",
    "    job = execute(qc, backend)\n",
    "    psi = job.result().get_statevector(qc, decimals=16)\n",
    "    Exp_value = []\n",
    "    for edges in G.edges():\n",
    "        qc_res1 = create_qaoa_circ(G,param)\n",
    "        for vertices in edges: # building the cost hamiltonian \n",
    "            qc_res1.z(vertices) # this is like adding the zz operator to each edge\n",
    "            job1 = execute(qc_res1, backend)\n",
    "            phi = job1.result().get_statevector(qc_res1, decimals=16)\n",
    "            Exp_value.append(np.dot(np.transpose(np.conjugate(psizz)), phi))\n",
    "    return np.real(np.sum(Exp_value))\n"
   ]
  },
  {
   "cell_type": "code",
   "execution_count": null,
   "metadata": {},
   "outputs": [],
   "source": [
    "# applying a cost hamiltonian H_c of TSP to QAOA anstaz \n",
    "\n",
    "def state_phi_zz(): # appending sll the zz terms \n",
    "    for edges in graph.edges():\n",
    "        psi_zz = create_qaoa_circ_modified(W, param, field_str)\n",
    "        for vertices in edges: # building the cost hamiltonian\n",
    "            psi_zz.z(vertices) # this is like adding the zz operator to each edge\n",
    "            job1 = execute(psi_zz, backend)\n",
    "            phi = job1.result().get_statevector(psi_zz, decimals=16)\n",
    "            Exp_value.append(np.dot(np.transpose(np.conjugate(psizz)), phi))\n",
    "    return np.real(np.sum(Exp_value))\n",
    "\n",
    "\n",
    "\n"
   ]
  }
 ],
 "metadata": {
  "kernelspec": {
   "display_name": "Python 3",
   "language": "python",
   "name": "python3"
  },
  "language_info": {
   "codemirror_mode": {
    "name": "ipython",
    "version": 3
   },
   "file_extension": ".py",
   "mimetype": "text/x-python",
   "name": "python",
   "nbconvert_exporter": "python",
   "pygments_lexer": "ipython3",
   "version": "3.8.10"
  },
  "orig_nbformat": 4,
  "vscode": {
   "interpreter": {
    "hash": "916dbcbb3f70747c44a77c7bcd40155683ae19c65e1c03b4aa3499c5328201f1"
   }
  }
 },
 "nbformat": 4,
 "nbformat_minor": 2
}
